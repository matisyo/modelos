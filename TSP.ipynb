{
 "cells": [
  {
   "cell_type": "code",
   "execution_count": 1,
   "metadata": {},
   "outputs": [],
   "source": [
    "data = \"\"\"0,1,1\n",
    "0,6,1\n",
    "1,2,1\n",
    "2,3,1\n",
    "3,4,1\n",
    "4,5,1\n",
    "4,8,1\n",
    "4,13,1\n",
    "5,9,1\n",
    "5,20,1\n",
    "6,10,1\n",
    "7,8,1\n",
    "7,11,1\n",
    "9,13,1\n",
    "10,11,1\n",
    "10,14,1\n",
    "12,14,1\n",
    "12,19,1\n",
    "13,18,1\n",
    "13,17,1\n",
    "14,15,1\n",
    "15,16,1\n",
    "16,17,1\n",
    "18,22,1\n",
    "19,24,1\n",
    "20,22,1\n",
    "21,22,1\n",
    "22,23,1\n",
    "23,24,1\"\"\"\n"
   ]
  },
  {
   "cell_type": "markdown",
   "metadata": {},
   "source": [
    "# Armo grafo todos contra todos"
   ]
  },
  {
   "cell_type": "code",
   "execution_count": 2,
   "metadata": {},
   "outputs": [],
   "source": [
    "N=25"
   ]
  },
  {
   "cell_type": "code",
   "execution_count": 3,
   "metadata": {},
   "outputs": [],
   "source": [
    "caminos_lista = []\n",
    "for linea in data.split(\"\\n\"):\n",
    "    a,b,w =[int(i) for i in linea.split(',')]  \n",
    "    caminos_lista.append([a,b,w])"
   ]
  },
  {
   "cell_type": "code",
   "execution_count": 4,
   "metadata": {},
   "outputs": [],
   "source": [
    "from math import inf\n",
    "from itertools import product\n",
    " \n",
    "def floyd_warshall(n, edge):\n",
    "    rn = range(n)\n",
    "    dist = [[inf] * n for i in rn]\n",
    "    nxt  = [[0]   * n for i in rn]\n",
    "    for i in rn:\n",
    "        dist[i][i] = 0\n",
    "    for u, v, w in edge:\n",
    "        dist[u][v] = w\n",
    "        dist[v][u] = w\n",
    "        nxt[u][v] = v\n",
    "        nxt[v][u] = u\n",
    "        \n",
    "    for k, i, j in product(rn, repeat=3):\n",
    "        sum_ik_kj = dist[i][k] + dist[k][j]\n",
    "        if dist[i][j] > sum_ik_kj:\n",
    "            dist[i][j] = sum_ik_kj\n",
    "            nxt[i][j]  = nxt[i][k]\n",
    "    return nxt,dist\n",
    "caminos,dist = floyd_warshall(N, caminos_lista)"
   ]
  },
  {
   "cell_type": "code",
   "execution_count": 5,
   "metadata": {},
   "outputs": [
    {
     "name": "stdout",
     "output_type": "stream",
     "text": [
      "A . 1 2 3 4 5 1 4 5 6 2 3 4 5 3 4 5 6 6 5 6 8 7 7 6\n",
      "B 1 . 1 2 3 4 2 5 4 5 3 4 5 4 4 5 6 5 5 6 5 7 6 7 7\n",
      "C 2 1 . 1 2 3 3 4 3 4 4 5 6 3 5 6 5 4 4 7 4 6 5 6 7\n",
      "D 3 2 1 . 1 2 4 3 2 3 5 4 7 2 6 5 4 3 3 7 3 5 4 5 6\n",
      "E 4 3 2 1 . 1 5 2 1 2 4 3 6 1 5 4 3 2 2 6 2 4 3 4 5\n",
      "F 5 4 3 2 1 . 6 3 2 1 5 4 6 2 6 5 4 3 3 5 1 3 2 3 4\n",
      "G 1 2 3 4 5 6 . 3 4 7 1 2 3 6 2 3 4 5 7 4 7 8 7 6 5\n",
      "H 4 5 4 3 2 3 3 . 1 4 2 1 4 3 3 4 5 4 4 5 4 6 5 6 6\n",
      "I 5 4 3 2 1 2 4 1 . 3 3 2 5 2 4 5 4 3 3 6 3 5 4 5 6\n",
      "J 6 5 4 3 2 1 7 4 3 . 6 5 6 1 5 4 3 2 2 6 2 4 3 4 5\n",
      "K 2 3 4 5 4 5 1 2 3 6 . 1 2 5 1 2 3 4 6 3 6 7 6 5 4\n",
      "L 3 4 5 4 3 4 2 1 2 5 1 . 3 4 2 3 4 5 5 4 5 7 6 6 5\n",
      "M 4 5 6 7 6 6 3 4 5 6 2 3 . 5 1 2 3 4 5 1 5 5 4 3 2\n",
      "N 5 4 3 2 1 2 6 3 2 1 5 4 5 . 4 3 2 1 1 5 3 3 2 3 4\n",
      "O 3 4 5 6 5 6 2 3 4 5 1 2 1 4 . 1 2 3 5 2 6 6 5 4 3\n",
      "P 4 5 6 5 4 5 3 4 5 4 2 3 2 3 1 . 1 2 4 3 6 6 5 5 4\n",
      "Q 5 6 5 4 3 4 4 5 4 3 3 4 3 2 2 1 . 1 3 4 5 5 4 5 5\n",
      "R 6 5 4 3 2 3 5 4 3 2 4 5 4 1 3 2 1 . 2 5 4 4 3 4 5\n",
      "S 6 5 4 3 2 3 7 4 3 2 6 5 5 1 5 4 3 2 . 4 2 2 1 2 3\n",
      "T 5 6 7 7 6 5 4 5 6 6 3 4 1 5 2 3 4 5 4 . 4 4 3 2 1\n",
      "U 6 5 4 3 2 1 7 4 3 2 6 5 5 3 6 6 5 4 2 4 . 2 1 2 3\n",
      "V 8 7 6 5 4 3 8 6 5 4 7 7 5 3 6 6 5 4 2 4 2 . 1 2 3\n",
      "W 7 6 5 4 3 2 7 5 4 3 6 6 4 2 5 5 4 3 1 3 1 1 . 1 2\n",
      "X 7 7 6 5 4 3 6 6 5 4 5 6 3 3 4 5 5 4 2 2 2 2 1 . 1\n",
      "Y 6 7 7 6 5 4 5 6 6 5 4 5 2 4 3 4 5 5 3 1 3 3 2 1 .\n"
     ]
    }
   ],
   "source": [
    "for i,fila in enumerate(dist):\n",
    "    print(chr(i+ord('A'))+\" \"+\" \".join(map(str,fila)).replace(\"0\",\".\"))"
   ]
  },
  {
   "cell_type": "code",
   "execution_count": 34,
   "metadata": {},
   "outputs": [],
   "source": [
    "import numpy as np\n",
    "memo = (np.ones(N*2**N)*500).reshape(N,2**N)"
   ]
  },
  {
   "cell_type": "code",
   "execution_count": 6,
   "metadata": {},
   "outputs": [],
   "source": [
    "combinations = {}\n",
    "for i in range(2**N):\n",
    "    k = bin(i).count(\"1\")\n",
    "    t = combinations.get(k,set())\n",
    "    t.add(i)\n",
    "    combinations[k] = t"
   ]
  },
  {
   "cell_type": "markdown",
   "metadata": {},
   "source": [
    "# TSP"
   ]
  },
  {
   "cell_type": "code",
   "execution_count": 75,
   "metadata": {},
   "outputs": [],
   "source": [
    "infinito = 50000\n",
    "def setup(S):\n",
    "    # calculo la altura 2\n",
    "    for i in range(N):\n",
    "        if i!=S:\n",
    "            memo[i][1<<S|1<<i] = 0#dist[S][i] en 0 no es ciclo y empezas en el 2do\n",
    "\n",
    "def notIn(i,subset):\n",
    "    return ((1 << i )& subset)==0\n",
    "def solve(S):\n",
    "    # ya tengo precalculado altura 1 y 2\n",
    "    # la altura 1 es el nodo final con peso 0\n",
    "    # la altura 2 es desde todos los nodos hacia el nodo final\n",
    "    # sigo desde la altura 3 \n",
    "    for r in range(3,N+1):\n",
    "        for subset in combinations[r]:# comb[3] --> {0000111,0001011,0101010,...}\n",
    "            #solo quiero volver a S en el final por eso evito esos\n",
    "            if notIn(S, subset):\n",
    "                continue\n",
    "            for prox in range(N):\n",
    "                #itero por los del subset\n",
    "                if prox == S or notIn(prox,subset):\n",
    "                    continue\n",
    "                # lo saco del subet entonces me queda un subset de altura menor\n",
    "                # es decir si estoy en r = 3 mi state es de 2 cosas entonces lo tngo precalculado\n",
    "                # en memo\n",
    "                state = subset ^ (1 << prox)\n",
    "                minDist = infinito\n",
    "                for e in range(N):\n",
    "                    #calculo el minimo de ir a prox con la suma del estado que ya tenia calculado \n",
    "                    #de la altura anterior\n",
    "                    if e == S or e == prox or notIn(e, subset):\n",
    "                         continue\n",
    "                    newDist = memo[e][state] + dist[e][prox]\n",
    "                    if newDist < minDist:\n",
    "                        minDist=newDist\n",
    "                #actualizo con el menor peso\n",
    "                memo[prox][subset] = minDist\n",
    "\n",
    "def findMinCost(S):\n",
    "    end_state = (1<<N) -1\n",
    "    minTourCost = infinito\n",
    "    for e in range(N):\n",
    "        if e ==S:\n",
    "            continue\n",
    "        tourCost = memo[e][end_state] + dist[e][S] #cerrar ciclo\n",
    "        if tourCost < minTourCost:\n",
    "            minTourCost = tourCost\n",
    "    return minTourCost\n",
    "\n",
    "def findOptimalTour(S):\n",
    "    lastIndex = S\n",
    "    state = (1 << N) -1\n",
    "    tour = [i for i in range(N+1)]\n",
    "    \n",
    "    for k in range(1,N):\n",
    "        i = N-k\n",
    "        index = -1\n",
    "        for j in range(N):\n",
    "            if j == S or notIn(j,state):\n",
    "                continue\n",
    "            if index == -1:\n",
    "                index = j\n",
    "            prevDist = memo[index][state] + dist[index][lastIndex]\n",
    "            newDist = memo[j][state] + dist[j][lastIndex]\n",
    "            if newDist<prevDist:\n",
    "                index = j\n",
    "        tour[i] = index\n",
    "        state = state ^ (1 << index)\n",
    "        lastIndex = index\n",
    "        \n",
    "    tour[0] = tour[N] = S\n",
    "    return tour\n",
    "        \n",
    "def sumar_camino(lista):\n",
    "    sumar = 0\n",
    "    for x,y in zip(lista[:-1],lista[1:]):\n",
    "        sumar += dist[x][y]\n",
    "        #print(x,y,dist[x][y])\n",
    "    return sumar                "
   ]
  },
  {
   "cell_type": "code",
   "execution_count": 76,
   "metadata": {},
   "outputs": [],
   "source": [
    "setup(0)\n",
    "solve(0)\n",
    "findMinCost(0)\n",
    "tur = findOptimalTour(0)"
   ]
  },
  {
   "cell_type": "code",
   "execution_count": 79,
   "metadata": {},
   "outputs": [],
   "source": [
    "camino_optimo_glpk=\"\"\"\n",
    "B 0\n",
    "C 1\n",
    "D 2\n",
    "E 18\n",
    "F 3\n",
    "G 22\n",
    "H 20\n",
    "I 19\n",
    "J 4\n",
    "K 23\n",
    "L 21\n",
    "M 11\n",
    "N 5\n",
    "O 10\n",
    "P 9\n",
    "Q 8\n",
    "R 7\n",
    "S 6\n",
    "T 12\n",
    "U 17\n",
    "V 16\n",
    "W 15\n",
    "X 14\n",
    "Y 13\n",
    "\"\"\"\n",
    "\n",
    "camino_optimo_glpk=\"\"\"\n",
    "B 0\n",
    "C 1\n",
    "D 2\n",
    "E 18\n",
    "F 3\n",
    "G 22\n",
    "H 20\n",
    "I 19\n",
    "J 4\n",
    "K 23\n",
    "L 21\n",
    "M 11\n",
    "N 5\n",
    "O 10\n",
    "P 9\n",
    "Q 8\n",
    "R 7\n",
    "S 6\n",
    "T 12\n",
    "U 17\n",
    "V 16\n",
    "W 15\n",
    "X 14\n",
    "Y 13\n",
    "\"\"\"\n",
    "b = list(map(lambda x: ord(x.split()[0])-ord('A'),sorted(camino_optimo_glpk.split(\"\\n\")[1:-1],key=lambda x: int(x.split()[1])) ))"
   ]
  },
  {
   "cell_type": "code",
   "execution_count": 80,
   "metadata": {},
   "outputs": [
    {
     "name": "stdout",
     "output_type": "stream",
     "text": [
      "Camino optimo con dp: 31\n",
      "Camino optimo glpk: 31\n",
      "0 15 16 17 13 9 5 20 22 21 18 23 24 19 12 14 10 6 11 7 8 4 3 2 1 0\n",
      "0 1 2 3 5 9 13 18 17 16 15 14 12 19 24 23 22 21 20 4 8 7 11 6 10 0\n"
     ]
    }
   ],
   "source": [
    "print(f\"Camino optimo con dp: {sumar_camino(tur)}\\nCamino optimo glpk: {sumar_camino([0]+b+[0])}\")\n",
    "print(\" \".join(map(str,tur)))\n",
    "print(\" \".join(map(str,[0]+b+[0])))"
   ]
  },
  {
   "cell_type": "code",
   "execution_count": null,
   "metadata": {},
   "outputs": [],
   "source": []
  }
 ],
 "metadata": {
  "kernelspec": {
   "display_name": "Python 3",
   "language": "python",
   "name": "python3"
  },
  "language_info": {
   "codemirror_mode": {
    "name": "ipython",
    "version": 3
   },
   "file_extension": ".py",
   "mimetype": "text/x-python",
   "name": "python",
   "nbconvert_exporter": "python",
   "pygments_lexer": "ipython3",
   "version": "3.6.4"
  }
 },
 "nbformat": 4,
 "nbformat_minor": 2
}
